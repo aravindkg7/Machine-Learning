{
  "nbformat": 4,
  "nbformat_minor": 0,
  "metadata": {
    "colab": {
      "provenance": [],
      "authorship_tag": "ABX9TyMC9K2/ip4tmvTEHDy+u22j"
    },
    "kernelspec": {
      "name": "python3",
      "display_name": "Python 3"
    },
    "language_info": {
      "name": "python"
    }
  },
  "cells": [
    {
      "cell_type": "markdown",
      "source": [
        "#### This file contains the basic commands to create **Tensors** in Pytorch\n",
        "\n",
        "---\n",
        "\n"
      ],
      "metadata": {
        "id": "mnHvH26Mfvf5"
      }
    },
    {
      "cell_type": "code",
      "execution_count": 1,
      "metadata": {
        "colab": {
          "base_uri": "https://localhost:8080/"
        },
        "id": "wM6VzNoGdTdp",
        "outputId": "6735eda9-20d2-4ad3-ab70-df107ddbee64"
      },
      "outputs": [
        {
          "output_type": "stream",
          "name": "stdout",
          "text": [
            "Using torch 2.1.0+cu118\n"
          ]
        }
      ],
      "source": [
        "import torch\n",
        "print('Using torch', torch.__version__)"
      ]
    },
    {
      "cell_type": "code",
      "source": [
        "#To have consistent results, let us set the seed to avoid randomness\n",
        "torch.manual_seed(7)"
      ],
      "metadata": {
        "colab": {
          "base_uri": "https://localhost:8080/"
        },
        "id": "yG9noJ0UgqZw",
        "outputId": "ca1ff7b3-3d18-4966-ae12-2dfe138c8f42"
      },
      "execution_count": 2,
      "outputs": [
        {
          "output_type": "execute_result",
          "data": {
            "text/plain": [
              "<torch._C.Generator at 0x79b484771370>"
            ]
          },
          "metadata": {},
          "execution_count": 2
        }
      ]
    },
    {
      "cell_type": "code",
      "source": [
        "#Initializing a random Torch Tensor\n",
        "x = torch.Tensor(2,3)\n",
        "print(x)"
      ],
      "metadata": {
        "colab": {
          "base_uri": "https://localhost:8080/"
        },
        "id": "t8IXxfcxf_eF",
        "outputId": "34c0a52d-5095-41e0-e784-282d9771019c"
      },
      "execution_count": 3,
      "outputs": [
        {
          "output_type": "stream",
          "name": "stdout",
          "text": [
            "tensor([[4.2332e-02, 3.1993e-41, 0.0000e+00],\n",
            "        [0.0000e+00, 7.7128e+31, 1.2737e-14]])\n"
          ]
        }
      ]
    },
    {
      "cell_type": "code",
      "source": [
        "#Generating a ones tensor\n",
        "torch.ones(2,4)"
      ],
      "metadata": {
        "colab": {
          "base_uri": "https://localhost:8080/"
        },
        "id": "TO8KjK37ghyI",
        "outputId": "95f32814-522a-4aa4-b35d-4cabe3f3dc2c"
      },
      "execution_count": 4,
      "outputs": [
        {
          "output_type": "execute_result",
          "data": {
            "text/plain": [
              "tensor([[1., 1., 1., 1.],\n",
              "        [1., 1., 1., 1.]])"
            ]
          },
          "metadata": {},
          "execution_count": 4
        }
      ]
    },
    {
      "cell_type": "code",
      "source": [
        "#Generating a zeros tensor\n",
        "torch.zeros(2,4)"
      ],
      "metadata": {
        "colab": {
          "base_uri": "https://localhost:8080/"
        },
        "id": "kVzeceTvXkbQ",
        "outputId": "df1bfcee-7f5f-414e-98fa-34f48e0dc883"
      },
      "execution_count": 5,
      "outputs": [
        {
          "output_type": "execute_result",
          "data": {
            "text/plain": [
              "tensor([[0., 0., 0., 0.],\n",
              "        [0., 0., 0., 0.]])"
            ]
          },
          "metadata": {},
          "execution_count": 5
        }
      ]
    },
    {
      "cell_type": "code",
      "source": [
        "#Generating a random tensor with uniformly distributed values between 0 and 1\n",
        "torch.rand(3,2)"
      ],
      "metadata": {
        "colab": {
          "base_uri": "https://localhost:8080/"
        },
        "id": "h35Q3tMNXpec",
        "outputId": "cb9e632f-c496-445a-98fa-e19a9dda3d59"
      },
      "execution_count": 6,
      "outputs": [
        {
          "output_type": "execute_result",
          "data": {
            "text/plain": [
              "tensor([[0.5349, 0.1988],\n",
              "        [0.6592, 0.6569],\n",
              "        [0.2328, 0.4251]])"
            ]
          },
          "metadata": {},
          "execution_count": 6
        }
      ]
    },
    {
      "cell_type": "code",
      "source": [
        "#Generating a random tensor with normally distributed values with mean 0 and variance 1\n",
        "torch.randn(3,2)"
      ],
      "metadata": {
        "colab": {
          "base_uri": "https://localhost:8080/"
        },
        "id": "F1R-V775X_KK",
        "outputId": "d5e5dc5e-9939-458a-acf2-ac57c7da323a"
      },
      "execution_count": 7,
      "outputs": [
        {
          "output_type": "execute_result",
          "data": {
            "text/plain": [
              "tensor([[-1.2514, -1.8841],\n",
              "        [ 0.4457, -0.7068],\n",
              "        [-1.5750, -0.6318]])"
            ]
          },
          "metadata": {},
          "execution_count": 7
        }
      ]
    },
    {
      "cell_type": "code",
      "source": [
        "#Creating a tensor from nested list\n",
        "torch.Tensor([[1, 2],[3, 4]])"
      ],
      "metadata": {
        "colab": {
          "base_uri": "https://localhost:8080/"
        },
        "id": "4oAcWjFtYJLD",
        "outputId": "05b62e10-7b31-417a-fbf0-c962caa22b42"
      },
      "execution_count": 8,
      "outputs": [
        {
          "output_type": "execute_result",
          "data": {
            "text/plain": [
              "tensor([[1., 2.],\n",
              "        [3., 4.]])"
            ]
          },
          "metadata": {},
          "execution_count": 8
        }
      ]
    },
    {
      "cell_type": "code",
      "source": [
        "#Reshaping tensors\n",
        "x = torch.arange(8)  #Create a Tensor\n",
        "print(x)"
      ],
      "metadata": {
        "colab": {
          "base_uri": "https://localhost:8080/"
        },
        "id": "gLXdosAZPBWg",
        "outputId": "6f913695-1159-4953-ea75-b3cd6655f723"
      },
      "execution_count": 11,
      "outputs": [
        {
          "output_type": "stream",
          "name": "stdout",
          "text": [
            "tensor([0, 1, 2, 3, 4, 5, 6, 7])\n"
          ]
        }
      ]
    },
    {
      "cell_type": "code",
      "source": [
        "#Reshape the tensor using \"View\" method\n",
        "x = x.view(2, 4)\n",
        "print(x)"
      ],
      "metadata": {
        "colab": {
          "base_uri": "https://localhost:8080/"
        },
        "id": "dDTqLefyPa1R",
        "outputId": "ce958e3d-fdf3-40cc-8dfb-15474545b090"
      },
      "execution_count": 12,
      "outputs": [
        {
          "output_type": "stream",
          "name": "stdout",
          "text": [
            "tensor([[0, 1, 2, 3],\n",
            "        [4, 5, 6, 7]])\n"
          ]
        }
      ]
    },
    {
      "cell_type": "code",
      "source": [
        "#Swapping axes\n",
        "x = x.permute(1, 0)\n",
        "print(x)"
      ],
      "metadata": {
        "colab": {
          "base_uri": "https://localhost:8080/"
        },
        "id": "8_qVQ9z3P59v",
        "outputId": "50e72bd3-053a-4b98-ff79-88d3b40ec1d9"
      },
      "execution_count": 13,
      "outputs": [
        {
          "output_type": "stream",
          "name": "stdout",
          "text": [
            "tensor([[0, 4],\n",
            "        [1, 5],\n",
            "        [2, 6],\n",
            "        [3, 7]])\n"
          ]
        }
      ]
    },
    {
      "cell_type": "code",
      "source": [],
      "metadata": {
        "id": "02do5jSeQICs"
      },
      "execution_count": null,
      "outputs": []
    }
  ]
}