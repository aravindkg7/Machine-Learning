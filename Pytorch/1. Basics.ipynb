{
  "nbformat": 4,
  "nbformat_minor": 0,
  "metadata": {
    "colab": {
      "provenance": [],
      "authorship_tag": "ABX9TyMMDgQC1mJ0jiIymxzKYvwz"
    },
    "kernelspec": {
      "name": "python3",
      "display_name": "Python 3"
    },
    "language_info": {
      "name": "python"
    }
  },
  "cells": [
    {
      "cell_type": "markdown",
      "source": [
        "##### This file contains the basic commands of Pytorch"
      ],
      "metadata": {
        "id": "mnHvH26Mfvf5"
      }
    },
    {
      "cell_type": "code",
      "execution_count": 14,
      "metadata": {
        "colab": {
          "base_uri": "https://localhost:8080/"
        },
        "id": "wM6VzNoGdTdp",
        "outputId": "caf6dd19-0dd6-4666-c6e6-ab4a905afc82"
      },
      "outputs": [
        {
          "output_type": "stream",
          "name": "stdout",
          "text": [
            "Using torch 2.1.0+cu118\n"
          ]
        }
      ],
      "source": [
        "import numpy as np\n",
        "import torch\n",
        "print('Using torch', torch.__version__)"
      ]
    },
    {
      "cell_type": "code",
      "source": [
        "#To have consistent results, let us set the seed to avoid randomness\n",
        "torch.manual_seed(7)"
      ],
      "metadata": {
        "colab": {
          "base_uri": "https://localhost:8080/"
        },
        "id": "yG9noJ0UgqZw",
        "outputId": "160cd703-f403-4a78-a664-fc20e2d75a01"
      },
      "execution_count": 2,
      "outputs": [
        {
          "output_type": "execute_result",
          "data": {
            "text/plain": [
              "<torch._C.Generator at 0x78a75678d390>"
            ]
          },
          "metadata": {},
          "execution_count": 2
        }
      ]
    },
    {
      "cell_type": "code",
      "source": [
        "#Initializing a random Torch Tensor\n",
        "x = torch.Tensor(2,3)\n",
        "print(x)"
      ],
      "metadata": {
        "colab": {
          "base_uri": "https://localhost:8080/"
        },
        "id": "t8IXxfcxf_eF",
        "outputId": "527ebf96-eda7-415a-8df1-42ac36f549a4"
      },
      "execution_count": 3,
      "outputs": [
        {
          "output_type": "stream",
          "name": "stdout",
          "text": [
            "tensor([[8.4078e-45, 1.3563e-19, 6.9487e-17],\n",
            "        [3.2355e-41, 6.9489e-17, 3.2355e-41]])\n"
          ]
        }
      ]
    },
    {
      "cell_type": "code",
      "source": [
        "#Generating a ones tensor\n",
        "torch.ones(2,4)"
      ],
      "metadata": {
        "colab": {
          "base_uri": "https://localhost:8080/"
        },
        "id": "TO8KjK37ghyI",
        "outputId": "a31c16e4-17e9-4ba5-8709-b92cf5bc66ee"
      },
      "execution_count": 4,
      "outputs": [
        {
          "output_type": "execute_result",
          "data": {
            "text/plain": [
              "tensor([[1., 1., 1., 1.],\n",
              "        [1., 1., 1., 1.]])"
            ]
          },
          "metadata": {},
          "execution_count": 4
        }
      ]
    },
    {
      "cell_type": "code",
      "source": [
        "#Generating a zeros tensor\n",
        "torch.zeros(2,4)"
      ],
      "metadata": {
        "colab": {
          "base_uri": "https://localhost:8080/"
        },
        "id": "kVzeceTvXkbQ",
        "outputId": "e39ce955-e5cd-4edc-c44a-bfdbc21ea660"
      },
      "execution_count": 5,
      "outputs": [
        {
          "output_type": "execute_result",
          "data": {
            "text/plain": [
              "tensor([[0., 0., 0., 0.],\n",
              "        [0., 0., 0., 0.]])"
            ]
          },
          "metadata": {},
          "execution_count": 5
        }
      ]
    },
    {
      "cell_type": "code",
      "source": [
        "#Generating a random tensor with uniformly distributed values between 0 and 1\n",
        "torch.rand(3,2)"
      ],
      "metadata": {
        "colab": {
          "base_uri": "https://localhost:8080/"
        },
        "id": "h35Q3tMNXpec",
        "outputId": "b80c0023-c379-4f55-be35-74c5d18c264c"
      },
      "execution_count": 6,
      "outputs": [
        {
          "output_type": "execute_result",
          "data": {
            "text/plain": [
              "tensor([[0.5349, 0.1988],\n",
              "        [0.6592, 0.6569],\n",
              "        [0.2328, 0.4251]])"
            ]
          },
          "metadata": {},
          "execution_count": 6
        }
      ]
    },
    {
      "cell_type": "code",
      "source": [
        "#Generating a random tensor with normally distributed values with mean 0 and variance 1\n",
        "torch.randn(3,2)"
      ],
      "metadata": {
        "colab": {
          "base_uri": "https://localhost:8080/"
        },
        "id": "F1R-V775X_KK",
        "outputId": "d88cdb4c-2e07-417a-eec9-2913a83955e2"
      },
      "execution_count": 7,
      "outputs": [
        {
          "output_type": "execute_result",
          "data": {
            "text/plain": [
              "tensor([[-1.2514, -1.8841],\n",
              "        [ 0.4457, -0.7068],\n",
              "        [-1.5750, -0.6318]])"
            ]
          },
          "metadata": {},
          "execution_count": 7
        }
      ]
    },
    {
      "cell_type": "code",
      "source": [
        "#Creating a tensor from nested list\n",
        "torch.Tensor([[1, 2],[3, 4]])"
      ],
      "metadata": {
        "colab": {
          "base_uri": "https://localhost:8080/"
        },
        "id": "4oAcWjFtYJLD",
        "outputId": "40f99f9b-4016-4ccd-c76f-1bd7a5cb6a6e"
      },
      "execution_count": 8,
      "outputs": [
        {
          "output_type": "execute_result",
          "data": {
            "text/plain": [
              "tensor([[1., 2.],\n",
              "        [3., 4.]])"
            ]
          },
          "metadata": {},
          "execution_count": 8
        }
      ]
    },
    {
      "cell_type": "code",
      "source": [
        "#Reshaping tensors\n",
        "x = torch.arange(8)  #Create a Tensor\n",
        "print(x)"
      ],
      "metadata": {
        "id": "N21IdpwTZRGV",
        "colab": {
          "base_uri": "https://localhost:8080/"
        },
        "outputId": "9b83a18a-c042-4d66-b8a2-bd5cc023b7bc"
      },
      "execution_count": 9,
      "outputs": [
        {
          "output_type": "stream",
          "name": "stdout",
          "text": [
            "tensor([0, 1, 2, 3, 4, 5, 6, 7])\n"
          ]
        }
      ]
    },
    {
      "cell_type": "code",
      "source": [
        "#Reshape the tensor using \"View\" method\n",
        "x = x.view(2, 4)\n",
        "print(x)"
      ],
      "metadata": {
        "colab": {
          "base_uri": "https://localhost:8080/"
        },
        "id": "8I--SU01gImF",
        "outputId": "a4faa812-f370-492e-9f1a-612d600cc555"
      },
      "execution_count": 10,
      "outputs": [
        {
          "output_type": "stream",
          "name": "stdout",
          "text": [
            "tensor([[0, 1, 2, 3],\n",
            "        [4, 5, 6, 7]])\n"
          ]
        }
      ]
    },
    {
      "cell_type": "code",
      "source": [
        "#Swapping axes\n",
        "x = x.permute(1, 0)\n",
        "print(x)"
      ],
      "metadata": {
        "colab": {
          "base_uri": "https://localhost:8080/"
        },
        "id": "AvJsI0a6gMlO",
        "outputId": "6fb84c07-9862-4b4b-d490-3f8875c6254e"
      },
      "execution_count": 11,
      "outputs": [
        {
          "output_type": "stream",
          "name": "stdout",
          "text": [
            "tensor([[0, 4],\n",
            "        [1, 5],\n",
            "        [2, 6],\n",
            "        [3, 7]])\n"
          ]
        }
      ]
    },
    {
      "cell_type": "code",
      "source": [
        "#Converting Tensor to Numpy\n",
        "x = torch.randn(2,3)\n",
        "np_arr = x.numpy()\n",
        "\n",
        "print(f'Tensor : {x}')\n",
        "print(f'Numpy  : {np_arr}')"
      ],
      "metadata": {
        "colab": {
          "base_uri": "https://localhost:8080/"
        },
        "id": "bVut45x2iea-",
        "outputId": "d97599c5-e8bb-465d-dadb-6b1cde3e3165"
      },
      "execution_count": 12,
      "outputs": [
        {
          "output_type": "stream",
          "name": "stdout",
          "text": [
            "Tensor : tensor([[ 0.0212, -0.3602,  0.5662],\n",
            "        [ 0.2142,  0.4963,  0.1196]])\n",
            "Numpy  : [[ 0.02120138 -0.36019382  0.56623673]\n",
            " [ 0.21419007  0.49633223  0.11960004]]\n"
          ]
        }
      ]
    },
    {
      "cell_type": "code",
      "source": [
        "#Converting Numpy to Tensor\n",
        "np_arr = np.array([[1, 3],[5, 7]])\n",
        "x = torch.from_numpy(np_arr)\n",
        "\n",
        "print(f'Numpy  : {np_arr}')\n",
        "print(f'Tensor : {x}')"
      ],
      "metadata": {
        "colab": {
          "base_uri": "https://localhost:8080/"
        },
        "id": "e9yqLqMJjPw8",
        "outputId": "6a4e1f02-087b-41c2-f119-649c162c12fb"
      },
      "execution_count": 16,
      "outputs": [
        {
          "output_type": "stream",
          "name": "stdout",
          "text": [
            "Numpy  : [[1 3]\n",
            " [5 7]]\n",
            "Tensor : tensor([[1, 3],\n",
            "        [5, 7]])\n"
          ]
        }
      ]
    }
  ]
}