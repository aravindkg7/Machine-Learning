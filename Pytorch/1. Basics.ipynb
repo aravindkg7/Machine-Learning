{
  "nbformat": 4,
  "nbformat_minor": 0,
  "metadata": {
    "colab": {
      "provenance": [],
      "authorship_tag": "ABX9TyPgaIyUDqcwOQVLoowrrlQx"
    },
    "kernelspec": {
      "name": "python3",
      "display_name": "Python 3"
    },
    "language_info": {
      "name": "python"
    }
  },
  "cells": [
    {
      "cell_type": "markdown",
      "source": [
        "##### This file contains the basic commands of Pytorch"
      ],
      "metadata": {
        "id": "mnHvH26Mfvf5"
      }
    },
    {
      "cell_type": "code",
      "execution_count": 1,
      "metadata": {
        "colab": {
          "base_uri": "https://localhost:8080/"
        },
        "id": "wM6VzNoGdTdp",
        "outputId": "5195af30-9dbb-4366-85b1-8ea551fe476b"
      },
      "outputs": [
        {
          "output_type": "stream",
          "name": "stdout",
          "text": [
            "Using torch 2.1.0+cu118\n"
          ]
        }
      ],
      "source": [
        "import torch\n",
        "print('Using torch', torch.__version__)"
      ]
    },
    {
      "cell_type": "code",
      "source": [
        "#To have consistent results, let us set the seed to avoid randomness\n",
        "torch.manual_seed(7)"
      ],
      "metadata": {
        "colab": {
          "base_uri": "https://localhost:8080/"
        },
        "id": "yG9noJ0UgqZw",
        "outputId": "27e2007f-b3ab-4fef-9f1b-996b2f9f5299"
      },
      "execution_count": 2,
      "outputs": [
        {
          "output_type": "execute_result",
          "data": {
            "text/plain": [
              "<torch._C.Generator at 0x793e922b7df0>"
            ]
          },
          "metadata": {},
          "execution_count": 2
        }
      ]
    },
    {
      "cell_type": "code",
      "source": [
        "#Initializing a random Torch Tensor\n",
        "x = torch.Tensor(2,3)\n",
        "print(x)"
      ],
      "metadata": {
        "colab": {
          "base_uri": "https://localhost:8080/"
        },
        "id": "t8IXxfcxf_eF",
        "outputId": "dc867339-aa2e-43ac-ed5c-d2bf55f287a7"
      },
      "execution_count": 3,
      "outputs": [
        {
          "output_type": "stream",
          "name": "stdout",
          "text": [
            "tensor([[6.7120e+22, 3.0881e+29, 2.8026e-45],\n",
            "        [0.0000e+00, 2.8026e-45, 2.9427e-44]])\n"
          ]
        }
      ]
    },
    {
      "cell_type": "code",
      "source": [
        "#Generating a ones tensor\n",
        "torch.ones(2,4)"
      ],
      "metadata": {
        "colab": {
          "base_uri": "https://localhost:8080/"
        },
        "id": "TO8KjK37ghyI",
        "outputId": "4ddd5fca-678b-4cb4-d59e-d74fb05131f4"
      },
      "execution_count": 4,
      "outputs": [
        {
          "output_type": "execute_result",
          "data": {
            "text/plain": [
              "tensor([[1., 1., 1., 1.],\n",
              "        [1., 1., 1., 1.]])"
            ]
          },
          "metadata": {},
          "execution_count": 4
        }
      ]
    },
    {
      "cell_type": "code",
      "source": [
        "#Generating a zeros tensor\n",
        "torch.zeros(2,4)"
      ],
      "metadata": {
        "colab": {
          "base_uri": "https://localhost:8080/"
        },
        "id": "kVzeceTvXkbQ",
        "outputId": "a499055e-1d57-4bf0-8480-5b379a30239b"
      },
      "execution_count": 5,
      "outputs": [
        {
          "output_type": "execute_result",
          "data": {
            "text/plain": [
              "tensor([[0., 0., 0., 0.],\n",
              "        [0., 0., 0., 0.]])"
            ]
          },
          "metadata": {},
          "execution_count": 5
        }
      ]
    },
    {
      "cell_type": "code",
      "source": [
        "#Generating a random tensor with uniformly distributed values between 0 and 1\n",
        "torch.rand(3,2)"
      ],
      "metadata": {
        "colab": {
          "base_uri": "https://localhost:8080/"
        },
        "id": "h35Q3tMNXpec",
        "outputId": "2090ed8b-7f1a-48af-b3aa-b25b2ef7160c"
      },
      "execution_count": 6,
      "outputs": [
        {
          "output_type": "execute_result",
          "data": {
            "text/plain": [
              "tensor([[0.5349, 0.1988],\n",
              "        [0.6592, 0.6569],\n",
              "        [0.2328, 0.4251]])"
            ]
          },
          "metadata": {},
          "execution_count": 6
        }
      ]
    },
    {
      "cell_type": "code",
      "source": [
        "#Generating a random tensor with normally distributed values with mean 0 and variance 1\n",
        "torch.randn(3,2)"
      ],
      "metadata": {
        "colab": {
          "base_uri": "https://localhost:8080/"
        },
        "id": "F1R-V775X_KK",
        "outputId": "f9b20519-40bd-4bca-ff88-bf737dbf11c3"
      },
      "execution_count": 7,
      "outputs": [
        {
          "output_type": "execute_result",
          "data": {
            "text/plain": [
              "tensor([[-1.2514, -1.8841],\n",
              "        [ 0.4457, -0.7068],\n",
              "        [-1.5750, -0.6318]])"
            ]
          },
          "metadata": {},
          "execution_count": 7
        }
      ]
    },
    {
      "cell_type": "code",
      "source": [
        "#Creating a tensor from nested list\n",
        "torch.Tensor([[1, 2],[3, 4]])"
      ],
      "metadata": {
        "colab": {
          "base_uri": "https://localhost:8080/"
        },
        "id": "4oAcWjFtYJLD",
        "outputId": "7d5a9e39-cbf4-41d2-9871-b74cbd4a3345"
      },
      "execution_count": 8,
      "outputs": [
        {
          "output_type": "execute_result",
          "data": {
            "text/plain": [
              "tensor([[1., 2.],\n",
              "        [3., 4.]])"
            ]
          },
          "metadata": {},
          "execution_count": 8
        }
      ]
    }
  ]
}
