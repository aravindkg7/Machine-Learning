{
  "nbformat": 4,
  "nbformat_minor": 0,
  "metadata": {
    "colab": {
      "provenance": [],
      "authorship_tag": "ABX9TyNYZdSXmIX8wOI3RtXbJWh7",
      "include_colab_link": true
    },
    "kernelspec": {
      "name": "python3",
      "display_name": "Python 3"
    },
    "language_info": {
      "name": "python"
    }
  },
  "cells": [
    {
      "cell_type": "markdown",
      "metadata": {
        "id": "view-in-github",
        "colab_type": "text"
      },
      "source": [
        "<a href=\"https://colab.research.google.com/github/aravindkg7/Machine-Learning/blob/main/Pytorch/1.%20Basics.ipynb\" target=\"_parent\"><img src=\"https://colab.research.google.com/assets/colab-badge.svg\" alt=\"Open In Colab\"/></a>"
      ]
    },
    {
      "cell_type": "markdown",
      "source": [
        "##### This file contains the basic commands of Pytorch"
      ],
      "metadata": {
        "id": "mnHvH26Mfvf5"
      }
    },
    {
      "cell_type": "code",
      "execution_count": 1,
      "metadata": {
        "colab": {
          "base_uri": "https://localhost:8080/"
        },
        "id": "wM6VzNoGdTdp",
        "outputId": "7bdb7a76-d584-4dba-9553-32832671b5e7"
      },
      "outputs": [
        {
          "output_type": "stream",
          "name": "stdout",
          "text": [
            "Using torch 2.1.0+cu118\n"
          ]
        }
      ],
      "source": [
        "import numpy as np\n",
        "import torch\n",
        "print('Using torch', torch.__version__)"
      ]
    },
    {
      "cell_type": "code",
      "source": [
        "#To have consistent results, let us set the seed to avoid randomness\n",
        "torch.manual_seed(7)"
      ],
      "metadata": {
        "colab": {
          "base_uri": "https://localhost:8080/"
        },
        "id": "yG9noJ0UgqZw",
        "outputId": "75645ecb-f8f9-47e8-da9b-084854608c1a"
      },
      "execution_count": 2,
      "outputs": [
        {
          "output_type": "execute_result",
          "data": {
            "text/plain": [
              "<torch._C.Generator at 0x7874e81352f0>"
            ]
          },
          "metadata": {},
          "execution_count": 2
        }
      ]
    },
    {
      "cell_type": "code",
      "source": [
        "#Initializing a random Torch Tensor\n",
        "x = torch.Tensor(2,3)\n",
        "print(x)"
      ],
      "metadata": {
        "colab": {
          "base_uri": "https://localhost:8080/"
        },
        "id": "t8IXxfcxf_eF",
        "outputId": "65203836-bf88-41c2-f8b0-66b363385731"
      },
      "execution_count": 3,
      "outputs": [
        {
          "output_type": "stream",
          "name": "stdout",
          "text": [
            "tensor([[ 1.5653e-42,  5.0934e-14, -2.4009e-10],\n",
            "        [ 3.1522e-41,  1.4013e-44,  1.3563e-19]])\n"
          ]
        }
      ]
    },
    {
      "cell_type": "code",
      "source": [
        "#Generating a ones tensor\n",
        "torch.ones(2,4)"
      ],
      "metadata": {
        "colab": {
          "base_uri": "https://localhost:8080/"
        },
        "id": "TO8KjK37ghyI",
        "outputId": "022c940b-ae8a-406f-a4f5-5bfb3de13db9"
      },
      "execution_count": 4,
      "outputs": [
        {
          "output_type": "execute_result",
          "data": {
            "text/plain": [
              "tensor([[1., 1., 1., 1.],\n",
              "        [1., 1., 1., 1.]])"
            ]
          },
          "metadata": {},
          "execution_count": 4
        }
      ]
    },
    {
      "cell_type": "code",
      "source": [
        "#Generating a zeros tensor\n",
        "torch.zeros(2,4)"
      ],
      "metadata": {
        "colab": {
          "base_uri": "https://localhost:8080/"
        },
        "id": "kVzeceTvXkbQ",
        "outputId": "50b04189-9694-4cd5-f448-fb8b3738403a"
      },
      "execution_count": 5,
      "outputs": [
        {
          "output_type": "execute_result",
          "data": {
            "text/plain": [
              "tensor([[0., 0., 0., 0.],\n",
              "        [0., 0., 0., 0.]])"
            ]
          },
          "metadata": {},
          "execution_count": 5
        }
      ]
    },
    {
      "cell_type": "code",
      "source": [
        "#Generating a random tensor with uniformly distributed values between 0 and 1\n",
        "torch.rand(3,2)"
      ],
      "metadata": {
        "colab": {
          "base_uri": "https://localhost:8080/"
        },
        "id": "h35Q3tMNXpec",
        "outputId": "06fcdb4a-f34d-408f-effc-9f9232edb57c"
      },
      "execution_count": 6,
      "outputs": [
        {
          "output_type": "execute_result",
          "data": {
            "text/plain": [
              "tensor([[0.5349, 0.1988],\n",
              "        [0.6592, 0.6569],\n",
              "        [0.2328, 0.4251]])"
            ]
          },
          "metadata": {},
          "execution_count": 6
        }
      ]
    },
    {
      "cell_type": "code",
      "source": [
        "#Generating a random tensor with normally distributed values with mean 0 and variance 1\n",
        "torch.randn(3,2)"
      ],
      "metadata": {
        "colab": {
          "base_uri": "https://localhost:8080/"
        },
        "id": "F1R-V775X_KK",
        "outputId": "c453859f-fcd2-4166-ddc1-050cafab4865"
      },
      "execution_count": 7,
      "outputs": [
        {
          "output_type": "execute_result",
          "data": {
            "text/plain": [
              "tensor([[-1.2514, -1.8841],\n",
              "        [ 0.4457, -0.7068],\n",
              "        [-1.5750, -0.6318]])"
            ]
          },
          "metadata": {},
          "execution_count": 7
        }
      ]
    },
    {
      "cell_type": "code",
      "source": [
        "#Creating a tensor from nested list\n",
        "torch.Tensor([[1, 2],[3, 4]])"
      ],
      "metadata": {
        "colab": {
          "base_uri": "https://localhost:8080/"
        },
        "id": "4oAcWjFtYJLD",
        "outputId": "6de50e61-ebdd-4e06-a79b-6cf3bec72fef"
      },
      "execution_count": 8,
      "outputs": [
        {
          "output_type": "execute_result",
          "data": {
            "text/plain": [
              "tensor([[1., 2.],\n",
              "        [3., 4.]])"
            ]
          },
          "metadata": {},
          "execution_count": 8
        }
      ]
    },
    {
      "cell_type": "code",
      "source": [
        "#Reshaping tensors\n",
        "x = torch.arange(8)  #Create a Tensor\n",
        "print(x)"
      ],
      "metadata": {
        "id": "N21IdpwTZRGV",
        "colab": {
          "base_uri": "https://localhost:8080/"
        },
        "outputId": "f31cef67-9de9-4321-80a6-20395ee67853"
      },
      "execution_count": 9,
      "outputs": [
        {
          "output_type": "stream",
          "name": "stdout",
          "text": [
            "tensor([0, 1, 2, 3, 4, 5, 6, 7])\n"
          ]
        }
      ]
    },
    {
      "cell_type": "code",
      "source": [
        "#Reshape the tensor using \"View\" method\n",
        "x = x.view(2, 4)\n",
        "print(x)"
      ],
      "metadata": {
        "colab": {
          "base_uri": "https://localhost:8080/"
        },
        "id": "8I--SU01gImF",
        "outputId": "93511700-05bf-4e25-fd09-5dc0608462b2"
      },
      "execution_count": 10,
      "outputs": [
        {
          "output_type": "stream",
          "name": "stdout",
          "text": [
            "tensor([[0, 1, 2, 3],\n",
            "        [4, 5, 6, 7]])\n"
          ]
        }
      ]
    },
    {
      "cell_type": "code",
      "source": [
        "#Swapping axes\n",
        "x = x.permute(1, 0)\n",
        "print(x)"
      ],
      "metadata": {
        "colab": {
          "base_uri": "https://localhost:8080/"
        },
        "id": "AvJsI0a6gMlO",
        "outputId": "c78ca472-1390-4f46-d0d0-da07a1584ac7"
      },
      "execution_count": 11,
      "outputs": [
        {
          "output_type": "stream",
          "name": "stdout",
          "text": [
            "tensor([[0, 4],\n",
            "        [1, 5],\n",
            "        [2, 6],\n",
            "        [3, 7]])\n"
          ]
        }
      ]
    },
    {
      "cell_type": "code",
      "source": [
        "#Converting Tensor to Numpy\n",
        "x = torch.randn(2,3)\n",
        "np_arr = x.numpy()\n",
        "\n",
        "print(f'Tensor : {x}')\n",
        "print(f'Numpy  : {np_arr}')"
      ],
      "metadata": {
        "colab": {
          "base_uri": "https://localhost:8080/"
        },
        "id": "bVut45x2iea-",
        "outputId": "785c4751-45a6-4a49-d23e-c9a9914727e8"
      },
      "execution_count": 12,
      "outputs": [
        {
          "output_type": "stream",
          "name": "stdout",
          "text": [
            "Tensor : tensor([[ 0.0212, -0.3602,  0.5662],\n",
            "        [ 0.2142,  0.4963,  0.1196]])\n",
            "Numpy  : [[ 0.02120138 -0.36019382  0.56623673]\n",
            " [ 0.21419007  0.49633223  0.11960004]]\n"
          ]
        }
      ]
    },
    {
      "cell_type": "code",
      "source": [
        "#Converting Numpy to Tensor\n",
        "np_arr = np.array([[1, 3],[5, 7]])\n",
        "x = torch.from_numpy(np_arr)\n",
        "\n",
        "print(f'Numpy  : {np_arr}')\n",
        "print(f'Tensor : {x}')"
      ],
      "metadata": {
        "colab": {
          "base_uri": "https://localhost:8080/"
        },
        "id": "e9yqLqMJjPw8",
        "outputId": "994aa9e9-52fd-4b51-b421-84cc758c25b3"
      },
      "execution_count": 13,
      "outputs": [
        {
          "output_type": "stream",
          "name": "stdout",
          "text": [
            "Numpy  : [[1 3]\n",
            " [5 7]]\n",
            "Tensor : tensor([[1, 3],\n",
            "        [5, 7]])\n"
          ]
        }
      ]
    },
    {
      "cell_type": "code",
      "source": [
        "#Find the shape/dimension of the tensor\n",
        "print(f'The shape of the tensor is {x.shape}')\n",
        "print(f'The dimension of the tensor is {x.size()}')"
      ],
      "metadata": {
        "colab": {
          "base_uri": "https://localhost:8080/"
        },
        "id": "G3rXlIXUklu7",
        "outputId": "4ef3b996-7f5c-47c8-9936-cc4a815f5167"
      },
      "execution_count": 14,
      "outputs": [
        {
          "output_type": "stream",
          "name": "stdout",
          "text": [
            "The shape of the tensor is torch.Size([2, 2])\n",
            "The dimension of the tensor is torch.Size([2, 2])\n"
          ]
        }
      ]
    }
  ]
}