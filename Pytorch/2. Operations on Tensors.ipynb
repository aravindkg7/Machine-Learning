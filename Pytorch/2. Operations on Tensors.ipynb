{
  "nbformat": 4,
  "nbformat_minor": 0,
  "metadata": {
    "colab": {
      "provenance": [],
      "authorship_tag": "ABX9TyMnAByf6OFyEOoVwFTM7/m3"
    },
    "kernelspec": {
      "name": "python3",
      "display_name": "Python 3"
    },
    "language_info": {
      "name": "python"
    }
  },
  "cells": [
    {
      "cell_type": "markdown",
      "source": [
        "Here we show basic operations on Tensors"
      ],
      "metadata": {
        "id": "QOIquBP50xuU"
      }
    },
    {
      "cell_type": "markdown",
      "source": [
        "Adding two tensors"
      ],
      "metadata": {
        "id": "zH2fXEPq1AzW"
      }
    },
    {
      "cell_type": "code",
      "source": [
        "#Import needed libraries\n",
        "import torch"
      ],
      "metadata": {
        "id": "gedl4hGU1-Cj"
      },
      "execution_count": 1,
      "outputs": []
    },
    {
      "cell_type": "code",
      "execution_count": 2,
      "metadata": {
        "colab": {
          "base_uri": "https://localhost:8080/"
        },
        "id": "hFkQGsPv0jSP",
        "outputId": "5c03c834-0091-46d1-ee49-83b3f524b046"
      },
      "outputs": [
        {
          "output_type": "stream",
          "name": "stdout",
          "text": [
            "tensor([[0.9624, 0.0743, 0.3133, 0.5535],\n",
            "        [0.0042, 0.9842, 0.0819, 0.2553],\n",
            "        [0.3432, 0.2221, 0.9092, 0.1059]])\n",
            "tensor([[0.2217, 0.7624, 0.0643, 0.4502],\n",
            "        [0.6941, 0.4877, 0.0740, 0.8787],\n",
            "        [0.4898, 0.6303, 0.8442, 0.8855]])\n",
            "tensor([[1.1841, 0.8367, 0.3776, 1.0037],\n",
            "        [0.6983, 1.4719, 0.1559, 1.1340],\n",
            "        [0.8330, 0.8524, 1.7534, 0.9915]])\n"
          ]
        }
      ],
      "source": [
        "x1 = torch.rand(3,4)\n",
        "x2 = torch.rand(3,4)\n",
        "y = x1 + x2\n",
        "\n",
        "print(x1)\n",
        "print(x2)\n",
        "print(y)"
      ]
    },
    {
      "cell_type": "code",
      "source": [
        "#Inplace addition\n",
        "\n",
        "print(\"Before Addition\")\n",
        "print(f\"x1 = {x1}\")\n",
        "print(f\"x2 = {x2}\")\n",
        "\n",
        "x2.add_(x1)\n",
        "print(\"After Addition\")\n",
        "print(f\"x1 = {x1}\")\n",
        "print(f\"x2 = {x2}\")"
      ],
      "metadata": {
        "colab": {
          "base_uri": "https://localhost:8080/"
        },
        "id": "aLbbQ5xd2CjD",
        "outputId": "dc1115b8-9ee9-4fe1-e3ea-73b3f2422eba"
      },
      "execution_count": 3,
      "outputs": [
        {
          "output_type": "stream",
          "name": "stdout",
          "text": [
            "Before Addition\n",
            "x1 = tensor([[0.9624, 0.0743, 0.3133, 0.5535],\n",
            "        [0.0042, 0.9842, 0.0819, 0.2553],\n",
            "        [0.3432, 0.2221, 0.9092, 0.1059]])\n",
            "x2 = tensor([[0.2217, 0.7624, 0.0643, 0.4502],\n",
            "        [0.6941, 0.4877, 0.0740, 0.8787],\n",
            "        [0.4898, 0.6303, 0.8442, 0.8855]])\n",
            "After Addition\n",
            "x1 = tensor([[0.9624, 0.0743, 0.3133, 0.5535],\n",
            "        [0.0042, 0.9842, 0.0819, 0.2553],\n",
            "        [0.3432, 0.2221, 0.9092, 0.1059]])\n",
            "x2 = tensor([[1.1841, 0.8367, 0.3776, 1.0037],\n",
            "        [0.6983, 1.4719, 0.1559, 1.1340],\n",
            "        [0.8330, 0.8524, 1.7534, 0.9915]])\n"
          ]
        }
      ]
    },
    {
      "cell_type": "markdown",
      "source": [
        "Multiplying Tensors using different ways"
      ],
      "metadata": {
        "id": "kTjXKel8O4Fi"
      }
    },
    {
      "cell_type": "code",
      "source": [
        "#Initialize 1st Tensor\n",
        "x1 = torch.arange(8)\n",
        "x1 = x1.view(2, 4)\n",
        "print(f'x1 = {x1}')"
      ],
      "metadata": {
        "colab": {
          "base_uri": "https://localhost:8080/"
        },
        "id": "e4oMvLRt-Bmn",
        "outputId": "2fb49bcb-67c1-4c9b-f644-4eaa937b93b7"
      },
      "execution_count": 4,
      "outputs": [
        {
          "output_type": "stream",
          "name": "stdout",
          "text": [
            "x1 = tensor([[0, 1, 2, 3],\n",
            "        [4, 5, 6, 7]])\n"
          ]
        }
      ]
    },
    {
      "cell_type": "code",
      "source": [
        "#Initialize 2nd Tensor\n",
        "x2 = torch.arange(12)\n",
        "x2 = x2.view(4, 3)\n",
        "print(f'x2 = {x2}')"
      ],
      "metadata": {
        "colab": {
          "base_uri": "https://localhost:8080/"
        },
        "id": "pn7n3rNlmRn-",
        "outputId": "3af00bbc-61f4-4fbd-999f-44ba61179f0c"
      },
      "execution_count": 5,
      "outputs": [
        {
          "output_type": "stream",
          "name": "stdout",
          "text": [
            "x2 = tensor([[ 0,  1,  2],\n",
            "        [ 3,  4,  5],\n",
            "        [ 6,  7,  8],\n",
            "        [ 9, 10, 11]])\n"
          ]
        }
      ]
    },
    {
      "cell_type": "code",
      "source": [
        "#Method 1\n",
        "x3 = torch.matmul(x1, x2)\n",
        "print(f'Size of x1 * x2 = {x3.shape}')\n",
        "print(f'x1 * x2 = {x3}')"
      ],
      "metadata": {
        "colab": {
          "base_uri": "https://localhost:8080/"
        },
        "id": "36tiJa1nmefi",
        "outputId": "547b3caa-d15b-47d7-8639-5458a10fb732"
      },
      "execution_count": 6,
      "outputs": [
        {
          "output_type": "stream",
          "name": "stdout",
          "text": [
            "Size of x1 * x2 = torch.Size([2, 3])\n",
            "x1 * x2 = tensor([[ 42,  48,  54],\n",
            "        [114, 136, 158]])\n"
          ]
        }
      ]
    },
    {
      "cell_type": "code",
      "source": [
        "#Method 2\n",
        "x3 = x1@x2\n",
        "print(f'Size of x1 * x2 = {x3.shape}')\n",
        "print(f'x1 * x2 = {x3}')"
      ],
      "metadata": {
        "colab": {
          "base_uri": "https://localhost:8080/"
        },
        "id": "f_74Y4lInPxK",
        "outputId": "40461474-5dbe-4c70-fe34-0a5c876d0146"
      },
      "execution_count": 7,
      "outputs": [
        {
          "output_type": "stream",
          "name": "stdout",
          "text": [
            "Size of x1 * x2 = torch.Size([2, 3])\n",
            "x1 * x2 = tensor([[ 42,  48,  54],\n",
            "        [114, 136, 158]])\n"
          ]
        }
      ]
    }
  ]
}