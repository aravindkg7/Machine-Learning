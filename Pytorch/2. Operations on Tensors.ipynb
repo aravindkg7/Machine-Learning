{
  "nbformat": 4,
  "nbformat_minor": 0,
  "metadata": {
    "colab": {
      "provenance": [],
      "authorship_tag": "ABX9TyNMif4m6UndPDBFdGv9sQKI"
    },
    "kernelspec": {
      "name": "python3",
      "display_name": "Python 3"
    },
    "language_info": {
      "name": "python"
    }
  },
  "cells": [
    {
      "cell_type": "markdown",
      "source": [
        "Here we show basic operations on Tensors"
      ],
      "metadata": {
        "id": "QOIquBP50xuU"
      }
    },
    {
      "cell_type": "markdown",
      "source": [
        "Adding two tensors"
      ],
      "metadata": {
        "id": "zH2fXEPq1AzW"
      }
    },
    {
      "cell_type": "code",
      "source": [
        "#Import needed libraries\n",
        "import torch"
      ],
      "metadata": {
        "id": "gedl4hGU1-Cj"
      },
      "execution_count": 3,
      "outputs": []
    },
    {
      "cell_type": "code",
      "execution_count": 4,
      "metadata": {
        "colab": {
          "base_uri": "https://localhost:8080/"
        },
        "id": "hFkQGsPv0jSP",
        "outputId": "e0c575d9-fc37-47e5-9315-04f4dbbf488a"
      },
      "outputs": [
        {
          "output_type": "stream",
          "name": "stdout",
          "text": [
            "tensor([[0.9773, 0.3834, 0.6051, 0.4778],\n",
            "        [0.0264, 0.7212, 0.0707, 0.8574],\n",
            "        [0.0242, 0.4377, 0.0043, 0.1323]])\n",
            "tensor([[0.1896, 0.5361, 0.0823, 0.3939],\n",
            "        [0.7779, 0.4281, 0.1918, 0.3582],\n",
            "        [0.6110, 0.4582, 0.0525, 0.7042]])\n",
            "tensor([[1.1669, 0.9194, 0.6875, 0.8717],\n",
            "        [0.8043, 1.1492, 0.2625, 1.2156],\n",
            "        [0.6352, 0.8959, 0.0568, 0.8365]])\n"
          ]
        }
      ],
      "source": [
        "x1 = torch.rand(3,4)\n",
        "x2 = torch.rand(3,4)\n",
        "y = x1 + x2\n",
        "\n",
        "print(x1)\n",
        "print(x2)\n",
        "print(y)"
      ]
    },
    {
      "cell_type": "code",
      "source": [
        "#Inplace addition\n",
        "\n",
        "print(\"Before Addition\")\n",
        "print(f\"x1 = {x1}\")\n",
        "print(f\"x2 = {x2}\")\n",
        "\n",
        "x2.add_(x1)\n",
        "print(\"After Addition\")\n",
        "print(f\"x1 = {x1}\")\n",
        "print(f\"x2 = {x2}\")"
      ],
      "metadata": {
        "colab": {
          "base_uri": "https://localhost:8080/"
        },
        "id": "aLbbQ5xd2CjD",
        "outputId": "756dee09-d931-41d6-af4d-d317c154148f"
      },
      "execution_count": 5,
      "outputs": [
        {
          "output_type": "stream",
          "name": "stdout",
          "text": [
            "Before Addition\n",
            "x1 = tensor([[0.9773, 0.3834, 0.6051, 0.4778],\n",
            "        [0.0264, 0.7212, 0.0707, 0.8574],\n",
            "        [0.0242, 0.4377, 0.0043, 0.1323]])\n",
            "x2 = tensor([[0.1896, 0.5361, 0.0823, 0.3939],\n",
            "        [0.7779, 0.4281, 0.1918, 0.3582],\n",
            "        [0.6110, 0.4582, 0.0525, 0.7042]])\n",
            "After Addition\n",
            "x1 = tensor([[0.9773, 0.3834, 0.6051, 0.4778],\n",
            "        [0.0264, 0.7212, 0.0707, 0.8574],\n",
            "        [0.0242, 0.4377, 0.0043, 0.1323]])\n",
            "x2 = tensor([[1.1669, 0.9194, 0.6875, 0.8717],\n",
            "        [0.8043, 1.1492, 0.2625, 1.2156],\n",
            "        [0.6352, 0.8959, 0.0568, 0.8365]])\n"
          ]
        }
      ]
    },
    {
      "cell_type": "code",
      "source": [],
      "metadata": {
        "id": "e4oMvLRt-Bmn"
      },
      "execution_count": 5,
      "outputs": []
    }
  ]
}